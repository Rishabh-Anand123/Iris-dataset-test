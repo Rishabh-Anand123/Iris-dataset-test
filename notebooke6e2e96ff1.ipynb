{
 "cells": [
  {
   "cell_type": "code",
   "execution_count": 1,
   "id": "9eb5a46a",
   "metadata": {
    "_cell_guid": "b1076dfc-b9ad-4769-8c92-a6c4dae69d19",
    "_uuid": "8f2839f25d086af736a60e9eeb907d3b93b6e0e5",
    "execution": {
     "iopub.execute_input": "2024-08-22T14:14:19.682500Z",
     "iopub.status.busy": "2024-08-22T14:14:19.682113Z",
     "iopub.status.idle": "2024-08-22T14:14:21.680241Z",
     "shell.execute_reply": "2024-08-22T14:14:21.679088Z"
    },
    "papermill": {
     "duration": 2.004573,
     "end_time": "2024-08-22T14:14:21.682754",
     "exception": false,
     "start_time": "2024-08-22T14:14:19.678181",
     "status": "completed"
    },
    "tags": []
   },
   "outputs": [
    {
     "data": {
      "text/plain": [
       "<matplotlib.collections.PathCollection at 0x7f6ab0ba3640>"
      ]
     },
     "execution_count": 1,
     "metadata": {},
     "output_type": "execute_result"
    },
    {
     "data": {
      "image/png": "[encoded data removed]",
      "text/plain": [
       "<Figure size 640x480 with 1 Axes>"
      ]
     },
     "metadata": {},
     "output_type": "display_data"
    }
   ],
   "source": [
    "from sklearn.datasets import load_iris\n",
    "import matplotlib.pylab as plt \n",
    "from sklearn.preprocessing import StandardScaler\n",
    "from sklearn.pipeline import Pipeline\n",
    "from sklearn.model_selection import GridSearchCV \n",
    "from sklearn.neighbors import KNeighborsRegressor\n",
    "\n",
    "from sklearn.linear_model import LinearRegression\n",
    "\n",
    "pipe = Pipeline([(\"scale\", StandardScaler()), (\"model\", KNeighborsRegressor())])\n",
    "\n",
    "GridSearchCV(estimator = pipe, param_grid = {'model__n_neighbors' : [1,2,3,4,5,6,7,8,9,10]}, cv =3)\n",
    "\n",
    "X,y = load_iris(return_X_y = True)\n",
    "\n",
    "pipe.fit(X, y)\n",
    "\n",
    "pred = pipe.predict(X)\n",
    "\n",
    "plt.scatter(pred, y)"
   ]
  },
  {
   "cell_type": "code",
   "execution_count": 2,
   "id": "e90cb9ca",
   "metadata": {
    "execution": {
     "iopub.execute_input": "2024-08-22T14:14:21.690098Z",
     "iopub.status.busy": "2024-08-22T14:14:21.689291Z",
     "iopub.status.idle": "2024-08-22T14:14:21.699175Z",
     "shell.execute_reply": "2024-08-22T14:14:21.698097Z"
    },
    "papermill": {
     "duration": 0.015795,
     "end_time": "2024-08-22T14:14:21.701417",
     "exception": false,
     "start_time": "2024-08-22T14:14:21.685622",
     "status": "completed"
    },
    "tags": []
   },
   "outputs": [
    {
     "data": {
      "text/plain": [
       "{'memory': None,\n",
       " 'steps': [('scale', StandardScaler()), ('model', KNeighborsRegressor())],\n",
       " 'verbose': False,\n",
       " 'scale': StandardScaler(),\n",
       " 'model': KNeighborsRegressor(),\n",
       " 'scale__copy': True,\n",
       " 'scale__with_mean': True,\n",
       " 'scale__with_std': True,\n",
       " 'model__algorithm': 'auto',\n",
       " 'model__leaf_size': 30,\n",
       " 'model__metric': 'minkowski',\n",
       " 'model__metric_params': None,\n",
       " 'model__n_jobs': None,\n",
       " 'model__n_neighbors': 5,\n",
       " 'model__p': 2,\n",
       " 'model__weights': 'uniform'}"
      ]
     },
     "execution_count": 2,
     "metadata": {},
     "output_type": "execute_result"
    }
   ],
   "source": [
    "pipe.get_params()"
   ]
  }
 ],
 "metadata": {
  "kaggle": {
   "accelerator": "none",
   "dataSources": [],
   "dockerImageVersionId": 30698,
   "isGpuEnabled": false,
   "isInternetEnabled": true,
   "language": "python",
   "sourceType": "notebook"
  },
  "kernelspec": {
   "display_name": "Python 3",
   "language": "python",
   "name": "python3"
  },
  "language_info": {
   "codemirror_mode": {
    "name": "ipython",
    "version": 3
   },
   "file_extension": ".py",
   "mimetype": "text/x-python",
   "name": "python",
   "nbconvert_exporter": "python",
   "pygments_lexer": "ipython3",
   "version": "3.10.13"
  },
  "papermill": {
   "default_parameters": {},
   "duration": 6.058612,
   "end_time": "2024-08-22T14:14:22.225059",
   "environment_variables": {},
   "exception": null,
   "input_path": "__notebook__.ipynb",
   "output_path": "__notebook__.ipynb",
   "parameters": {},
   "start_time": "2024-08-22T14:14:16.166447",
   "version": "2.5.0"
  }
 },
 "nbformat": 4,
 "nbformat_minor": 5
}
